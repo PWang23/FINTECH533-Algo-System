{
 "cells": [
  {
   "cell_type": "code",
   "execution_count": 1,
   "metadata": {},
   "outputs": [],
   "source": [
    "import pandas as pd\n",
    "from datetime import datetime, date\n",
    "try_data = pd.read_csv('try.csv')"
   ]
  },
  {
   "cell_type": "code",
   "execution_count": 2,
   "metadata": {},
   "outputs": [
    {
     "data": {
      "text/html": [
       "<div>\n",
       "<style scoped>\n",
       "    .dataframe tbody tr th:only-of-type {\n",
       "        vertical-align: middle;\n",
       "    }\n",
       "\n",
       "    .dataframe tbody tr th {\n",
       "        vertical-align: top;\n",
       "    }\n",
       "\n",
       "    .dataframe thead th {\n",
       "        text-align: right;\n",
       "    }\n",
       "</style>\n",
       "<table border=\"1\" class=\"dataframe\">\n",
       "  <thead>\n",
       "    <tr style=\"text-align: right;\">\n",
       "      <th></th>\n",
       "      <th>Date</th>\n",
       "      <th>Open</th>\n",
       "      <th>High</th>\n",
       "      <th>Low</th>\n",
       "      <th>Close</th>\n",
       "      <th>Change %</th>\n",
       "      <th>Volume</th>\n",
       "    </tr>\n",
       "  </thead>\n",
       "  <tbody>\n",
       "    <tr>\n",
       "      <th>0</th>\n",
       "      <td>Feb. 08, 2023</td>\n",
       "      <td>415.05</td>\n",
       "      <td>416.46</td>\n",
       "      <td>411.88</td>\n",
       "      <td>412.57</td>\n",
       "      <td>-1.09%</td>\n",
       "      <td>2,872,002</td>\n",
       "    </tr>\n",
       "    <tr>\n",
       "      <th>1</th>\n",
       "      <td>Feb. 07, 2023</td>\n",
       "      <td>410.77</td>\n",
       "      <td>418.43</td>\n",
       "      <td>409.53</td>\n",
       "      <td>417.12</td>\n",
       "      <td>1.29%</td>\n",
       "      <td>5,584,762</td>\n",
       "    </tr>\n",
       "    <tr>\n",
       "      <th>2</th>\n",
       "      <td>Feb. 06, 2023</td>\n",
       "      <td>411.74</td>\n",
       "      <td>413.24</td>\n",
       "      <td>410.03</td>\n",
       "      <td>411.80</td>\n",
       "      <td>-0.62%</td>\n",
       "      <td>2,578,974</td>\n",
       "    </tr>\n",
       "    <tr>\n",
       "      <th>3</th>\n",
       "      <td>Feb. 03, 2023</td>\n",
       "      <td>413.52</td>\n",
       "      <td>418.95</td>\n",
       "      <td>413.04</td>\n",
       "      <td>414.35</td>\n",
       "      <td>-1.03%</td>\n",
       "      <td>4,385,968</td>\n",
       "    </tr>\n",
       "    <tr>\n",
       "      <th>4</th>\n",
       "      <td>Feb. 02, 2023</td>\n",
       "      <td>416.80</td>\n",
       "      <td>420.25</td>\n",
       "      <td>414.80</td>\n",
       "      <td>418.66</td>\n",
       "      <td>1.45%</td>\n",
       "      <td>4,883,296</td>\n",
       "    </tr>\n",
       "    <tr>\n",
       "      <th>5</th>\n",
       "      <td>Feb. 01, 2023</td>\n",
       "      <td>407.10</td>\n",
       "      <td>415.59</td>\n",
       "      <td>404.22</td>\n",
       "      <td>412.67</td>\n",
       "      <td>1.07%</td>\n",
       "      <td>5,194,565</td>\n",
       "    </tr>\n",
       "    <tr>\n",
       "      <th>6</th>\n",
       "      <td>Jan. 31, 2023</td>\n",
       "      <td>403.00</td>\n",
       "      <td>408.40</td>\n",
       "      <td>402.67</td>\n",
       "      <td>408.31</td>\n",
       "      <td>1.45%</td>\n",
       "      <td>6,121,226</td>\n",
       "    </tr>\n",
       "    <tr>\n",
       "      <th>7</th>\n",
       "      <td>Jan. 30, 2023</td>\n",
       "      <td>404.66</td>\n",
       "      <td>407.02</td>\n",
       "      <td>402.20</td>\n",
       "      <td>402.47</td>\n",
       "      <td>-1.27%</td>\n",
       "      <td>3,457,432</td>\n",
       "    </tr>\n",
       "  </tbody>\n",
       "</table>\n",
       "</div>"
      ],
      "text/plain": [
       "            Date    Open    High     Low   Close Change %     Volume\n",
       "0  Feb. 08, 2023  415.05  416.46  411.88  412.57   -1.09%  2,872,002\n",
       "1  Feb. 07, 2023  410.77  418.43  409.53  417.12    1.29%  5,584,762\n",
       "2  Feb. 06, 2023  411.74  413.24  410.03  411.80   -0.62%  2,578,974\n",
       "3  Feb. 03, 2023  413.52  418.95  413.04  414.35   -1.03%  4,385,968\n",
       "4  Feb. 02, 2023  416.80  420.25  414.80  418.66    1.45%  4,883,296\n",
       "5  Feb. 01, 2023  407.10  415.59  404.22  412.67    1.07%  5,194,565\n",
       "6  Jan. 31, 2023  403.00  408.40  402.67  408.31    1.45%  6,121,226\n",
       "7  Jan. 30, 2023  404.66  407.02  402.20  402.47   -1.27%  3,457,432"
      ]
     },
     "execution_count": 2,
     "metadata": {},
     "output_type": "execute_result"
    }
   ],
   "source": [
    "try_data"
   ]
  },
  {
   "cell_type": "code",
   "execution_count": 11,
   "metadata": {},
   "outputs": [
    {
     "name": "stdout",
     "output_type": "stream",
     "text": [
      "<class 'pandas.core.series.Series'>\n"
     ]
    },
    {
     "data": {
      "text/plain": [
       "0   2023-02-08\n",
       "1   2023-02-07\n",
       "2   2023-02-06\n",
       "3   2023-02-03\n",
       "4   2023-02-02\n",
       "5   2023-02-01\n",
       "6   2023-01-31\n",
       "7   2023-01-30\n",
       "Name: Date, dtype: datetime64[ns]"
      ]
     },
     "execution_count": 11,
     "metadata": {},
     "output_type": "execute_result"
    }
   ],
   "source": [
    "\"\"\" print(type(try_data['Date']))\n",
    "pd.to_datetime(try_data['Date']) \"\"\""
   ]
  },
  {
   "cell_type": "code",
   "execution_count": 3,
   "metadata": {},
   "outputs": [
    {
     "name": "stdout",
     "output_type": "stream",
     "text": [
      "            Date    Open    High     Low   Close Change %     Volume\n",
      "0  Jan. 30, 2023  404.66  407.02   402.2  402.47   -1.27%  3,457,432\n",
      "1  Jan. 31, 2023   403.0   408.4  402.67  408.31    1.45%  6,121,226\n",
      "2  Feb. 01, 2023   407.1  415.59  404.22  412.67    1.07%  5,194,565\n",
      "3  Feb. 02, 2023   416.8  420.25   414.8  418.66    1.45%  4,883,296\n",
      "4  Feb. 03, 2023  413.52  418.95  413.04  414.35   -1.03%  4,385,968\n",
      "5  Feb. 06, 2023  411.74  413.24  410.03   411.8   -0.62%  2,578,974\n",
      "6  Feb. 07, 2023  410.77  418.43  409.53  417.12    1.29%  5,584,762\n",
      "7  Feb. 08, 2023  415.05  416.46  411.88  412.57   -1.09%  2,872,002\n"
     ]
    }
   ],
   "source": [
    "column_names = ['Trade ID', 'Date', 'Asset', 'Trip', 'Action', 'Type', 'Price', 'Status']\n",
    "row_number = try_data.shape[0] - 1\n",
    "\n",
    "reversed_data = try_data.iloc[::-1]\n",
    "reversed_df = pd.DataFrame(reversed_data.values, index=try_data.index, columns=try_data.columns)\n",
    "print(reversed_df)"
   ]
  },
  {
   "cell_type": "code",
   "execution_count": 4,
   "metadata": {},
   "outputs": [
    {
     "data": {
      "text/html": [
       "<div>\n",
       "<style scoped>\n",
       "    .dataframe tbody tr th:only-of-type {\n",
       "        vertical-align: middle;\n",
       "    }\n",
       "\n",
       "    .dataframe tbody tr th {\n",
       "        vertical-align: top;\n",
       "    }\n",
       "\n",
       "    .dataframe thead th {\n",
       "        text-align: right;\n",
       "    }\n",
       "</style>\n",
       "<table border=\"1\" class=\"dataframe\">\n",
       "  <thead>\n",
       "    <tr style=\"text-align: right;\">\n",
       "      <th></th>\n",
       "      <th>Trade ID</th>\n",
       "      <th>Date</th>\n",
       "      <th>Asset</th>\n",
       "      <th>Trip</th>\n",
       "      <th>Action</th>\n",
       "      <th>Type</th>\n",
       "      <th>Price</th>\n",
       "      <th>Status</th>\n",
       "    </tr>\n",
       "  </thead>\n",
       "  <tbody>\n",
       "    <tr>\n",
       "      <th>0</th>\n",
       "      <td>0</td>\n",
       "      <td>Jan. 31, 2023</td>\n",
       "      <td>NaN</td>\n",
       "      <td>NaN</td>\n",
       "      <td>NaN</td>\n",
       "      <td>NaN</td>\n",
       "      <td>398.4453</td>\n",
       "      <td>NaN</td>\n",
       "    </tr>\n",
       "    <tr>\n",
       "      <th>1</th>\n",
       "      <td>1</td>\n",
       "      <td>Feb. 01, 2023</td>\n",
       "      <td>NaN</td>\n",
       "      <td>NaN</td>\n",
       "      <td>NaN</td>\n",
       "      <td>NaN</td>\n",
       "      <td>404.2269</td>\n",
       "      <td>NaN</td>\n",
       "    </tr>\n",
       "    <tr>\n",
       "      <th>2</th>\n",
       "      <td>2</td>\n",
       "      <td>Feb. 02, 2023</td>\n",
       "      <td>NaN</td>\n",
       "      <td>NaN</td>\n",
       "      <td>NaN</td>\n",
       "      <td>NaN</td>\n",
       "      <td>408.5433</td>\n",
       "      <td>NaN</td>\n",
       "    </tr>\n",
       "    <tr>\n",
       "      <th>3</th>\n",
       "      <td>3</td>\n",
       "      <td>Feb. 03, 2023</td>\n",
       "      <td>NaN</td>\n",
       "      <td>NaN</td>\n",
       "      <td>NaN</td>\n",
       "      <td>NaN</td>\n",
       "      <td>414.4734</td>\n",
       "      <td>NaN</td>\n",
       "    </tr>\n",
       "    <tr>\n",
       "      <th>4</th>\n",
       "      <td>4</td>\n",
       "      <td>Feb. 06, 2023</td>\n",
       "      <td>NaN</td>\n",
       "      <td>NaN</td>\n",
       "      <td>NaN</td>\n",
       "      <td>NaN</td>\n",
       "      <td>410.2065</td>\n",
       "      <td>NaN</td>\n",
       "    </tr>\n",
       "    <tr>\n",
       "      <th>5</th>\n",
       "      <td>5</td>\n",
       "      <td>Feb. 07, 2023</td>\n",
       "      <td>NaN</td>\n",
       "      <td>NaN</td>\n",
       "      <td>NaN</td>\n",
       "      <td>NaN</td>\n",
       "      <td>407.682</td>\n",
       "      <td>NaN</td>\n",
       "    </tr>\n",
       "    <tr>\n",
       "      <th>6</th>\n",
       "      <td>6</td>\n",
       "      <td>Feb. 08, 2023</td>\n",
       "      <td>NaN</td>\n",
       "      <td>NaN</td>\n",
       "      <td>NaN</td>\n",
       "      <td>NaN</td>\n",
       "      <td>412.9488</td>\n",
       "      <td>NaN</td>\n",
       "    </tr>\n",
       "  </tbody>\n",
       "</table>\n",
       "</div>"
      ],
      "text/plain": [
       "   Trade ID           Date Asset Trip Action Type     Price Status\n",
       "0         0  Jan. 31, 2023   NaN  NaN    NaN  NaN  398.4453    NaN\n",
       "1         1  Feb. 01, 2023   NaN  NaN    NaN  NaN  404.2269    NaN\n",
       "2         2  Feb. 02, 2023   NaN  NaN    NaN  NaN  408.5433    NaN\n",
       "3         3  Feb. 03, 2023   NaN  NaN    NaN  NaN  414.4734    NaN\n",
       "4         4  Feb. 06, 2023   NaN  NaN    NaN  NaN  410.2065    NaN\n",
       "5         5  Feb. 07, 2023   NaN  NaN    NaN  NaN   407.682    NaN\n",
       "6         6  Feb. 08, 2023   NaN  NaN    NaN  NaN  412.9488    NaN"
      ]
     },
     "execution_count": 4,
     "metadata": {},
     "output_type": "execute_result"
    }
   ],
   "source": [
    "blotter = pd.DataFrame(index=range(row_number), columns=column_names)\n",
    "blotter['Trade ID'] = blotter.index\n",
    "blotter['Date'] = reversed_df['Date'].iloc[1:].reset_index(drop=True)\n",
    "blotter['Price'] = reversed_df['Close'].iloc[:-1].reset_index(drop=True) * 0.99\n",
    "blotter"
   ]
  },
  {
   "cell_type": "code",
   "execution_count": 28,
   "metadata": {},
   "outputs": [
    {
     "name": "stdout",
     "output_type": "stream",
     "text": [
      "   Trade ID           Date Asset Trip Action Type     Price Status\n",
      "0         0  Jan. 31, 2023   NaN  NaN    NaN  NaN  398.4453    NaN\n",
      "2         2  Feb. 02, 2023   NaN  NaN    NaN  NaN  408.5433    NaN\n"
     ]
    }
   ],
   "source": [
    "#step2:Identify which order were cancelled\n",
    "low = reversed_df['Low']\n",
    "price = blotter['Price']\n",
    "\n",
    "indices = []\n",
    "for i, element in enumerate(price):\n",
    "    if i + 3 >= len(low):\n",
    "        break\n",
    "    if element < low[i + 1] and element < low[i + 2] and element < low[i + 3]:\n",
    "        indices.append(i)\n",
    "\n",
    "cancelled = blotter.loc[indices]\n",
    "print(cancelled)\n"
   ]
  }
 ],
 "metadata": {
  "kernelspec": {
   "display_name": "Python 3.9.16 64-bit",
   "language": "python",
   "name": "python3"
  },
  "language_info": {
   "codemirror_mode": {
    "name": "ipython",
    "version": 3
   },
   "file_extension": ".py",
   "mimetype": "text/x-python",
   "name": "python",
   "nbconvert_exporter": "python",
   "pygments_lexer": "ipython3",
   "version": "3.9.16"
  },
  "orig_nbformat": 4,
  "vscode": {
   "interpreter": {
    "hash": "a665b5d41d17b532ea9890333293a1b812fa0b73c9c25c950b3cedf1bebd0438"
   }
  }
 },
 "nbformat": 4,
 "nbformat_minor": 2
}
